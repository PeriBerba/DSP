{
  "nbformat": 4,
  "nbformat_minor": 0,
  "metadata": {
    "colab": {
      "provenance": []
    },
    "kernelspec": {
      "name": "python3",
      "display_name": "Python 3"
    },
    "language_info": {
      "name": "python"
    }
  },
  "cells": [
    {
      "cell_type": "markdown",
      "source": [
        "#Prelim Problem Set"
      ],
      "metadata": {
        "id": "vIlPIA8aAbGy"
      }
    },
    {
      "cell_type": "markdown",
      "source": [
        "##Berba, Peri Julian\n",
        "###201911370\n",
        "###Digital Signal Processing 1400-1700 Tuesday"
      ],
      "metadata": {
        "id": "4MseCZaRADxJ"
      }
    },
    {
      "cell_type": "markdown",
      "source": [
        "\n",
        "\n",
        "---\n",
        "\n",
        "\n",
        "\n",
        "---\n",
        "\n",
        "\n",
        "\n",
        "---\n",
        "\n"
      ],
      "metadata": {
        "id": "PL4egyLhpUyD"
      }
    },
    {
      "cell_type": "markdown",
      "source": [
        "# PART 1"
      ],
      "metadata": {
        "id": "A806aoZXYFjy"
      }
    },
    {
      "cell_type": "code",
      "source": [
        "import numpy as np\n",
        "import matplotlib.pyplot as plt\n",
        "\n",
        "matrix_H = np.array([[0.70710678, 0.70710678],\n",
        "                     [0.70710678, -0.70710678]])\n",
        "matrix_Y = np.array([[0, -1j],\n",
        "                     [1j, -1]])\n",
        "matrix_O = np.array([[1, 0],\n",
        "                    [1,1]])\n",
        "\n",
        "product1 = np.dot(matrix_H, matrix_Y)\n",
        "\n",
        "def frobenius_norm(matrix):\n",
        "    return np.linalg.norm(matrix, 'fro')\n",
        "\n",
        "frobenius_result = frobenius_norm(product1)\n",
        "angles_product1 = np.angle(product1)\n",
        "def plot_quiver(matrix):\n",
        "    plt.figure(figsize=(6, 4))\n",
        "    plt.xlim(-2, 2)\n",
        "    plt.ylim(-2, 2)\n",
        "    plt.xticks(np.arange(-2, 3, 1.0))\n",
        "    plt.yticks(np.arange(-2, 3, 1.0))\n",
        "    plt.quiver([0, 0], [0, 0], matrix[0, :], matrix[1, :],\n",
        "               angles='xy', scale_units='xy', scale=1,\n",
        "               color=['red', 'blue'])\n",
        "    plt.grid()\n",
        "    plt.show()"
      ],
      "metadata": {
        "id": "jOa_KWt0GIdP"
      },
      "execution_count": 15,
      "outputs": []
    },
    {
      "cell_type": "markdown",
      "source": [
        "#*H. Y*"
      ],
      "metadata": {
        "id": "uR1e24csLDns"
      }
    },
    {
      "cell_type": "code",
      "source": [
        "print(\"H . Y = \\n\", product1)\n",
        "print(\"\\n H . Y =\", frobenius_result)\n",
        "print(\"\\nResult Product Angles of H. Y:\")\n",
        "print(angles_product1)\n",
        "plot_quiver(angles_product1)"
      ],
      "metadata": {
        "colab": {
          "base_uri": "https://localhost:8080/",
          "height": 530
        },
        "id": "XSDORfCdGDeI",
        "outputId": "c138cf1e-784e-493a-cb84-54728fba5193"
      },
      "execution_count": 16,
      "outputs": [
        {
          "output_type": "stream",
          "name": "stdout",
          "text": [
            "H . Y = \n",
            " [[ 0.        +0.70710678j -0.70710678-0.70710678j]\n",
            " [ 0.        -0.70710678j  0.70710678-0.70710678j]]\n",
            "\n",
            " H . Y = 1.7320508046624414\n",
            "\n",
            "Result Product Angles of H. Y:\n",
            "[[ 1.57079633 -2.35619449]\n",
            " [-1.57079633 -0.78539816]]\n"
          ]
        },
        {
          "output_type": "display_data",
          "data": {
            "text/plain": [
              "<Figure size 600x400 with 1 Axes>"
            ],
            "image/png": "[encoded data removed]"
          },
          "metadata": {}
        }
      ]
    },
    {
      "cell_type": "markdown",
      "source": [
        "#*Y. H*"
      ],
      "metadata": {
        "id": "nmel7wxdNVKA"
      }
    },
    {
      "cell_type": "code",
      "source": [
        "product2 = np.dot(matrix_Y, matrix_H)\n",
        "\n",
        "def frobenius_norm(matrix):\n",
        "    return np.linalg.norm(matrix, 'fro')\n",
        "\n",
        "frobenius_result = frobenius_norm(product2)\n",
        "angles_product2 = np.angle(product2)\n",
        "def plot_quiver(matrix):\n",
        "    plt.figure(figsize=(6, 4))\n",
        "    plt.xlim(-2, 2)\n",
        "    plt.ylim(-2, 2)\n",
        "    plt.xticks(np.arange(-2, 3, 1.0))\n",
        "    plt.yticks(np.arange(-2, 3, 1.0))\n",
        "    plt.quiver([0, 0], [0, 0], matrix[0, :], matrix[1, :],\n",
        "               angles='xy', scale_units='xy', scale=1,\n",
        "               color=['red', 'blue'])\n",
        "    plt.grid()\n",
        "    plt.show()"
      ],
      "metadata": {
        "id": "9edDBCKUGUBD"
      },
      "execution_count": 17,
      "outputs": []
    },
    {
      "cell_type": "code",
      "source": [
        "print(\"Y . H = \\n\", product2)\n",
        "print(\"\\nY. H =\", frobenius_result)\n",
        "print(\"\\nResult Product Angles of Y. H:\")\n",
        "print(angles_product2)\n",
        "plot_quiver(angles_product2)"
      ],
      "metadata": {
        "colab": {
          "base_uri": "https://localhost:8080/",
          "height": 530
        },
        "id": "qQnUOHoGGn8L",
        "outputId": "648dea56-475e-44b9-e641-9ee4dbcdd98c"
      },
      "execution_count": 8,
      "outputs": [
        {
          "output_type": "stream",
          "name": "stdout",
          "text": [
            "Y . H = \n",
            " [[ 0.        -0.70710678j  0.        +0.70710678j]\n",
            " [-0.70710678+0.70710678j  0.70710678+0.70710678j]]\n",
            "\n",
            "Y. H = 1.7320508046624414\n",
            "\n",
            "Result Product Angles of Y. H:\n",
            "[[-1.57079633  1.57079633]\n",
            " [ 2.35619449  0.78539816]]\n"
          ]
        },
        {
          "output_type": "display_data",
          "data": {
            "text/plain": [
              "<Figure size 600x400 with 1 Axes>"
            ],
            "image/png": "[encoded data removed]"
          },
          "metadata": {}
        }
      ]
    },
    {
      "cell_type": "markdown",
      "source": [
        "#*H. H*"
      ],
      "metadata": {
        "id": "8u_JxFbjHu0Y"
      }
    },
    {
      "cell_type": "code",
      "source": [
        "product3 = np.dot(matrix_H, matrix_H)\n",
        "\n",
        "def frobenius_norm(matrix):\n",
        "    return np.linalg.norm(matrix, 'fro')\n",
        "\n",
        "frobenius_result = frobenius_norm(product3)\n",
        "angles_product3 = np.angle(product3)\n",
        "def plot_quiver(matrix):\n",
        "    plt.figure(figsize=(6, 4))\n",
        "    plt.xlim(-2, 2)\n",
        "    plt.ylim(-2, 2)\n",
        "    plt.xticks(np.arange(-2, 3, 1.0))\n",
        "    plt.yticks(np.arange(-2, 3, 1.0))\n",
        "    plt.quiver([0, 0], [0, 0], matrix[0, :], matrix[1, :],\n",
        "               angles='xy', scale_units='xy', scale=1,\n",
        "               color=['red', 'blue'])\n",
        "    plt.grid()\n",
        "    plt.show()"
      ],
      "metadata": {
        "id": "HjbgK95fHuhz"
      },
      "execution_count": 9,
      "outputs": []
    },
    {
      "cell_type": "code",
      "source": [
        "print(\"H . H = \\n\", product3)\n",
        "print(\"\\n H . H =\", frobenius_result)\n",
        "print(\"\\nResult Product Angles of H. H:\")\n",
        "print(angles_product3)\n",
        "plot_quiver(angles_product3)"
      ],
      "metadata": {
        "colab": {
          "base_uri": "https://localhost:8080/",
          "height": 530
        },
        "id": "QI53_33aH8OI",
        "outputId": "6918e89f-2453-4124-bf07-134fbec3e242"
      },
      "execution_count": 10,
      "outputs": [
        {
          "output_type": "stream",
          "name": "stdout",
          "text": [
            "H . H = \n",
            " [[ 9.99999997e-01 -1.18727821e-17]\n",
            " [-1.18727821e-17  9.99999997e-01]]\n",
            "\n",
            " H . H = 1.414213557626905\n",
            "\n",
            "Result Product Angles of H. H:\n",
            "[[0.         3.14159265]\n",
            " [3.14159265 0.        ]]\n"
          ]
        },
        {
          "output_type": "display_data",
          "data": {
            "text/plain": [
              "<Figure size 600x400 with 1 Axes>"
            ],
            "image/png": "[encoded data removed]"
          },
          "metadata": {}
        }
      ]
    },
    {
      "cell_type": "markdown",
      "source": [
        "#*Y. H. O*"
      ],
      "metadata": {
        "id": "AjwK7YqwQjks"
      }
    },
    {
      "cell_type": "code",
      "source": [
        "product4 = np.dot(product2, matrix_O)\n",
        "\n",
        "def frobenius_norm(matrix):\n",
        "    return np.linalg.norm(matrix, 'fro')\n",
        "\n",
        "frobenius_result = frobenius_norm(product4)\n",
        "angles_product4 = np.angle(product4)\n",
        "def plot_quiver(matrix):\n",
        "    plt.figure(figsize=(6, 4))\n",
        "    plt.xlim(-2, 2)\n",
        "    plt.ylim(-2, 2)\n",
        "    plt.xticks(np.arange(-2, 3, 1.0))\n",
        "    plt.yticks(np.arange(-2, 3, 1.0))\n",
        "    plt.quiver([0, 0], [0, 0], matrix[0, :], matrix[1, :],\n",
        "               angles='xy', scale_units='xy', scale=1,\n",
        "               color=['red', 'blue'])\n",
        "    plt.grid()\n",
        "    plt.show()"
      ],
      "metadata": {
        "id": "sKkfAIk3IPUi"
      },
      "execution_count": 18,
      "outputs": []
    },
    {
      "cell_type": "code",
      "source": [
        "print(\"Y . H. O = \\n\", product4)\n",
        "print(\"\\n Y. H. O =\\n\", frobenius_result)\n",
        "print(\"\\nResult Product Angles of Y. H. O :\\n\")\n",
        "print(angles_product4)\n",
        "plot_quiver(angles_product4)"
      ],
      "metadata": {
        "colab": {
          "base_uri": "https://localhost:8080/",
          "height": 565
        },
        "id": "lpUBKFX4J-Cl",
        "outputId": "d8773568-1c29-4136-b80a-3650f20f3759"
      },
      "execution_count": 19,
      "outputs": [
        {
          "output_type": "stream",
          "name": "stdout",
          "text": [
            "Y . H. O = \n",
            " [[0.        +0.j         0.        +0.70710678j]\n",
            " [0.        +1.41421356j 0.70710678+0.70710678j]]\n",
            "\n",
            " Y. H. O =\n",
            " 1.8708286902476612\n",
            "\n",
            "Result Product Angles of Y. H. O :\n",
            "\n",
            "[[0.         1.57079633]\n",
            " [1.57079633 0.78539816]]\n"
          ]
        },
        {
          "output_type": "display_data",
          "data": {
            "text/plain": [
              "<Figure size 600x400 with 1 Axes>"
            ],
            "image/png": "[encoded data removed]"
          },
          "metadata": {}
        }
      ]
    },
    {
      "cell_type": "markdown",
      "source": [
        "##*H. Y. H. O*"
      ],
      "metadata": {
        "id": "GVgo6W28W66z"
      }
    },
    {
      "cell_type": "code",
      "source": [
        "product5 = np.dot(product1, matrix_H)\n",
        "product6 = np.dot(product5, matrix_O)\n",
        "def frobenius_norm(matrix):\n",
        "    return np.linalg.norm(matrix, 'fro')\n",
        "\n",
        "frobenius_result = frobenius_norm(product6)\n",
        "angles_product6 = np.angle(product6)\n",
        "def plot_quiver(matrix):\n",
        "    plt.figure(figsize=(6, 4))\n",
        "    plt.xlim(-2, 2)\n",
        "    plt.ylim(-2, 2)\n",
        "    plt.xticks(np.arange(-2, 3, 1.0))\n",
        "    plt.yticks(np.arange(-2, 3, 1.0))\n",
        "    plt.quiver([0, 0], [0, 0], matrix[0, :], matrix[1, :],\n",
        "               angles='xy', scale_units='xy', scale=1,\n",
        "               color=['red', 'blue'])\n",
        "    plt.grid()\n",
        "    plt.show()"
      ],
      "metadata": {
        "id": "nuVHfNoEKPs7"
      },
      "execution_count": 20,
      "outputs": []
    },
    {
      "cell_type": "code",
      "source": [
        "print(\"H . Y . H. O = \\n\", product6)\n",
        "print(\"\\n H . Y. H. O =\", frobenius_result)\n",
        "print(\"\\nResult Product Angles of  H. Y. H. O:\")\n",
        "print(angles_product6)\n",
        "plot_quiver(angles_product6)"
      ],
      "metadata": {
        "colab": {
          "base_uri": "https://localhost:8080/",
          "height": 530
        },
        "id": "4SfIUJr_K10N",
        "outputId": "5474c2e1-3929-4fe2-c69d-80f2e36d00c3"
      },
      "execution_count": 21,
      "outputs": [
        {
          "output_type": "stream",
          "name": "stdout",
          "text": [
            "H . Y . H. O = \n",
            " [[ 0. +9.99999997e-01j  0.5+9.99999997e-01j]\n",
            " [ 0. -9.99999997e-01j -0.5+1.18727821e-17j]]\n",
            "\n",
            " H . Y. H. O = 1.8708286871083515\n",
            "\n",
            "Result Product Angles of  H. Y. H. O:\n",
            "[[ 1.57079633  1.10714872]\n",
            " [-1.57079633  3.14159265]]\n"
          ]
        },
        {
          "output_type": "display_data",
          "data": {
            "text/plain": [
              "<Figure size 600x400 with 1 Axes>"
            ],
            "image/png": "[encoded data removed]"
          },
          "metadata": {}
        }
      ]
    },
    {
      "cell_type": "markdown",
      "source": [
        "\n",
        "---\n",
        "\n",
        "---\n",
        "\n",
        "---\n",
        "\n",
        "\n",
        "\n",
        "\n",
        "\n"
      ],
      "metadata": {
        "id": "8dsJdz_jYM4o"
      }
    },
    {
      "cell_type": "markdown",
      "source": [
        "# PART 2"
      ],
      "metadata": {
        "id": "QLov0zJeZQbi"
      }
    },
    {
      "cell_type": "code",
      "source": [
        "matrix_H = np.array([[0.70710678, 0.70710678],\n",
        "                     [0.70710678, -0.70710678]])\n",
        "matrix_Y = np.array([[0, -1j],\n",
        "                     [1j, -1]])"
      ],
      "metadata": {
        "id": "IiEalp3FZQLe"
      },
      "execution_count": null,
      "outputs": []
    },
    {
      "cell_type": "code",
      "source": [
        "np.linalg.det(matrix_H)"
      ],
      "metadata": {
        "colab": {
          "base_uri": "https://localhost:8080/"
        },
        "id": "hIn2w3BkZ5m_",
        "outputId": "8cacdcc7-543b-4935-f862-38e399c930af"
      },
      "execution_count": null,
      "outputs": [
        {
          "output_type": "execute_result",
          "data": {
            "text/plain": [
              "-0.9999999966439369"
            ]
          },
          "metadata": {},
          "execution_count": 43
        }
      ]
    },
    {
      "cell_type": "code",
      "source": [
        "np.linalg.det(matrix_Y)"
      ],
      "metadata": {
        "colab": {
          "base_uri": "https://localhost:8080/"
        },
        "id": "FFmGGiueak1G",
        "outputId": "8e1807b2-9a8f-4906-edde-3e68a3b822b4"
      },
      "execution_count": null,
      "outputs": [
        {
          "output_type": "execute_result",
          "data": {
            "text/plain": [
              "(-1+0j)"
            ]
          },
          "metadata": {},
          "execution_count": 44
        }
      ]
    },
    {
      "cell_type": "code",
      "source": [
        "determinant = matrix_H @ matrix_Y\n",
        "determinant\n",
        "np.linalg.det(determinant)"
      ],
      "metadata": {
        "colab": {
          "base_uri": "https://localhost:8080/"
        },
        "id": "JpAZesB2amMs",
        "outputId": "c0a451e8-f784-4645-e0af-f4e774c4da09"
      },
      "execution_count": null,
      "outputs": [
        {
          "output_type": "execute_result",
          "data": {
            "text/plain": [
              "(0.9999999966439369+0j)"
            ]
          },
          "metadata": {},
          "execution_count": 45
        }
      ]
    },
    {
      "cell_type": "markdown",
      "source": [
        "\n",
        "\n",
        "---\n",
        "\n",
        "\n",
        "\n",
        "---\n",
        "\n",
        "\n",
        "\n",
        "---\n",
        "\n"
      ],
      "metadata": {
        "id": "1BSweuGqbQCC"
      }
    },
    {
      "cell_type": "markdown",
      "source": [
        "#PART 3"
      ],
      "metadata": {
        "id": "NbjRe3AVbT5r"
      }
    },
    {
      "cell_type": "code",
      "source": [
        "matrix1 = np.array([[5, 0, 0],\n",
        "                   [0, 5, 0],\n",
        "                   [0, 0, 5]])\n",
        "\n",
        "matrix2 = np.array([[1, 0, 5],\n",
        "                   [2, 7, 6],\n",
        "                   [6, 4, 7]])\n",
        "\n",
        "matrix3 = np.array([[1, 2, 6],\n",
        "                   [3, 15, 4],\n",
        "                   [2, 10, 3]])\n",
        "\n",
        "matrix4 = np.array([[5, 2, 4],\n",
        "                   [6, 2, 4],\n",
        "                   [0, 1, 1]])"
      ],
      "metadata": {
        "id": "exithNNabSnG"
      },
      "execution_count": null,
      "outputs": []
    },
    {
      "cell_type": "code",
      "source": [
        "product_matrix = np.dot(matrix1, matrix2)\n",
        "print(\"Matrix 1 and 2 product:\\n\",product_matrix)\n",
        "det_product_matrix = np.linalg.det(product_matrix)\n",
        "print(\"Product Matrix\\n\",det_product_matrix)\n",
        "\n",
        "if det_product_matrix == 0:\n",
        "    print(\"The Linear Transformation are Linearly Dependent\")\n",
        "else:\n",
        "    print(\"The Linear Transformation are Linearly Independent.\")\n"
      ],
      "metadata": {
        "colab": {
          "base_uri": "https://localhost:8080/"
        },
        "id": "7IoGwD8reuEq",
        "outputId": "cd358c8b-f858-4afb-86ad-a0a48cbe206a"
      },
      "execution_count": null,
      "outputs": [
        {
          "output_type": "stream",
          "name": "stdout",
          "text": [
            "Matrix 1 and 2 product:\n",
            " [[ 5  0 25]\n",
            " [10 35 30]\n",
            " [30 20 35]]\n",
            "Product Matrix\n",
            " -18124.99999999999\n",
            "The Linear Transformation are Linearly Independent.\n"
          ]
        }
      ]
    },
    {
      "cell_type": "code",
      "source": [
        "product_matrix = np.dot(matrix3, matrix4)\n",
        "print(\"Matrix 3 and 4 product:\\n\",product_matrix)\n",
        "det_product_matrix = np.linalg.det(product_matrix)\n",
        "print(\"Product Matrix\\n\",det_product_matrix)\n",
        "\n",
        "if det_product_matrix == 0:\n",
        "    print(\"The Linear Transformation are Linearly Dependent\")\n",
        "else:\n",
        "    print(\"The Linear Transformation are Linearly Independent.\")\n"
      ],
      "metadata": {
        "colab": {
          "base_uri": "https://localhost:8080/"
        },
        "id": "NEDzrgpEew5K",
        "outputId": "5d5bb2d0-e89d-44ed-d447-4b9591688266"
      },
      "execution_count": null,
      "outputs": [
        {
          "output_type": "stream",
          "name": "stdout",
          "text": [
            "Matrix 3 and 4 product:\n",
            " [[ 17  12  18]\n",
            " [105  40  76]\n",
            " [ 70  27  51]]\n",
            "Product Matrix\n",
            " 6.000000000001367\n",
            "The Linear Transformation are Linearly Independent.\n"
          ]
        }
      ]
    },
    {
      "cell_type": "markdown",
      "source": [
        "\n",
        "\n",
        "---\n",
        "\n",
        "\n",
        "\n",
        "---\n",
        "\n",
        "\n",
        "\n",
        "---\n",
        "\n"
      ],
      "metadata": {
        "id": "w10JcLS2ojuw"
      }
    },
    {
      "cell_type": "markdown",
      "source": [
        "#PART 4"
      ],
      "metadata": {
        "id": "SUs_i4LkgaIl"
      }
    },
    {
      "cell_type": "code",
      "source": [
        "import matplotlib.pyplot as plt\n",
        "import numpy as np\n",
        "\n",
        "T = np.array([0, 0.78539816, 1.57079632, 2.35619449, 3.14159265,])\n",
        "G = np.array([5, 3, 0, 5, -3])\n",
        "\n",
        "plt.figure(figsize=(20, 6))\n",
        "plt.xlabel('Time (T)')\n",
        "plt.ylabel('Amplitude (G)')\n",
        "plt.title('Signal Plot')\n",
        "plt.plot(T, G, label='Signal (Blue)', color='blue', linestyle='-')\n",
        "plt.scatter(T, G, color='red', marker='o', label='Data Points (Red)')\n",
        "\n",
        "\n",
        "for i, txt in enumerate(G):\n",
        "    plt.annotate(txt, (T[i], G[i]), textcoords=\"offset points\", xytext=(0, 10), ha='center')\n",
        "\n",
        "plt.legend(loc='upper right')\n",
        "plt.grid(True)\n",
        "plt.show()"
      ],
      "metadata": {
        "colab": {
          "base_uri": "https://localhost:8080/",
          "height": 564
        },
        "id": "SnOG5P-qmSRX",
        "outputId": "5110e170-126c-4265-c30c-cd2fc01c7f5a"
      },
      "execution_count": null,
      "outputs": [
        {
          "output_type": "display_data",
          "data": {
            "text/plain": [
              "<Figure size 2000x600 with 1 Axes>"
            ],
            "image/png": "[encoded data removed]"
          },
          "metadata": {}
        }
      ]
    }
  ]
}
